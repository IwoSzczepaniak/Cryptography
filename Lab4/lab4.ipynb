{
 "cells": [
  {
   "cell_type": "markdown",
   "metadata": {},
   "source": [
    "### 1. Wygeneruj 16-bitową liczbę pierwszą p i sprawdź czy „Twój” numer indeksu jest generatorem grupy . "
   ]
  },
  {
   "cell_type": "code",
   "execution_count": 2,
   "metadata": {},
   "outputs": [
    {
     "name": "stdout",
     "output_type": "stream",
     "text": [
      "58229\n"
     ]
    }
   ],
   "source": [
    "import random\n",
    "from sympy import randprime\n",
    "\n",
    "p = randprime(2**15, 2**16-1)\n",
    "print(p)\n"
   ]
  },
  {
   "cell_type": "code",
   "execution_count": 3,
   "metadata": {},
   "outputs": [],
   "source": [
    "def is_group_generator(n, p):\n",
    "    \"\"\"\n",
    "    Check if n is a generator of a group modulo p.\n",
    "    \"\"\"\n",
    "    if pow(n, p-1, p) != 1:\n",
    "        return False\n",
    "    for i in range(1, p-1):\n",
    "        if pow(n, i, p) == 1:\n",
    "            return False\n",
    "    return True\n"
   ]
  },
  {
   "cell_type": "code",
   "execution_count": 4,
   "metadata": {},
   "outputs": [
    {
     "data": {
      "text/plain": [
       "False"
      ]
     },
     "execution_count": 4,
     "metadata": {},
     "output_type": "execute_result"
    }
   ],
   "source": [
    "index_nr = 409869\n",
    "\n",
    "is_group_generator(index_nr, p)\n"
   ]
  },
  {
   "cell_type": "markdown",
   "metadata": {},
   "source": [
    "### Przygotuj metodę w „Pythonie” lub „Sage” pozwalająca wygenerować ciąg wartości będących kolejnymi potęgami dla kolejnych generatorów.  \n",
    "\n",
    "Skomentuj właściwości takiego ciągu w kontekście wykorzystania jako „PRNG” "
   ]
  },
  {
   "cell_type": "code",
   "execution_count": 5,
   "metadata": {},
   "outputs": [
    {
     "ename": "KeyboardInterrupt",
     "evalue": "",
     "output_type": "error",
     "traceback": [
      "\u001b[1;31m---------------------------------------------------------------------------\u001b[0m",
      "\u001b[1;31mKeyboardInterrupt\u001b[0m                         Traceback (most recent call last)",
      "\u001b[1;32mc:\\Users\\iwosz\\PythonProjects\\CryptographyCourse\\Lab4\\lab4.ipynb Cell 6\u001b[0m line \u001b[0;36m<cell line: 1>\u001b[1;34m()\u001b[0m\n\u001b[1;32m----> <a href='vscode-notebook-cell:/c%3A/Users/iwosz/PythonProjects/CryptographyCourse/Lab4/lab4.ipynb#X11sZmlsZQ%3D%3D?line=0'>1</a>\u001b[0m generators \u001b[39m=\u001b[39m [n \u001b[39mfor\u001b[39;00m n \u001b[39min\u001b[39;00m \u001b[39mrange\u001b[39m(\u001b[39m1\u001b[39m, p) \u001b[39mif\u001b[39;00m is_group_generator(n, p)]\n",
      "\u001b[1;32mc:\\Users\\iwosz\\PythonProjects\\CryptographyCourse\\Lab4\\lab4.ipynb Cell 6\u001b[0m line \u001b[0;36m<listcomp>\u001b[1;34m(.0)\u001b[0m\n\u001b[1;32m----> <a href='vscode-notebook-cell:/c%3A/Users/iwosz/PythonProjects/CryptographyCourse/Lab4/lab4.ipynb#X11sZmlsZQ%3D%3D?line=0'>1</a>\u001b[0m generators \u001b[39m=\u001b[39m [n \u001b[39mfor\u001b[39;00m n \u001b[39min\u001b[39;00m \u001b[39mrange\u001b[39m(\u001b[39m1\u001b[39m, p) \u001b[39mif\u001b[39;00m is_group_generator(n, p)]\n",
      "\u001b[1;32mc:\\Users\\iwosz\\PythonProjects\\CryptographyCourse\\Lab4\\lab4.ipynb Cell 6\u001b[0m line \u001b[0;36mis_group_generator\u001b[1;34m(n, p)\u001b[0m\n\u001b[0;32m      <a href='vscode-notebook-cell:/c%3A/Users/iwosz/PythonProjects/CryptographyCourse/Lab4/lab4.ipynb#X11sZmlsZQ%3D%3D?line=5'>6</a>\u001b[0m     \u001b[39mreturn\u001b[39;00m \u001b[39mFalse\u001b[39;00m\n\u001b[0;32m      <a href='vscode-notebook-cell:/c%3A/Users/iwosz/PythonProjects/CryptographyCourse/Lab4/lab4.ipynb#X11sZmlsZQ%3D%3D?line=6'>7</a>\u001b[0m \u001b[39mfor\u001b[39;00m i \u001b[39min\u001b[39;00m \u001b[39mrange\u001b[39m(\u001b[39m1\u001b[39m, p\u001b[39m-\u001b[39m\u001b[39m1\u001b[39m):\n\u001b[1;32m----> <a href='vscode-notebook-cell:/c%3A/Users/iwosz/PythonProjects/CryptographyCourse/Lab4/lab4.ipynb#X11sZmlsZQ%3D%3D?line=7'>8</a>\u001b[0m     \u001b[39mif\u001b[39;00m \u001b[39mpow\u001b[39;49m(n, i, p) \u001b[39m==\u001b[39m \u001b[39m1\u001b[39m:\n\u001b[0;32m      <a href='vscode-notebook-cell:/c%3A/Users/iwosz/PythonProjects/CryptographyCourse/Lab4/lab4.ipynb#X11sZmlsZQ%3D%3D?line=8'>9</a>\u001b[0m         \u001b[39mreturn\u001b[39;00m \u001b[39mFalse\u001b[39;00m\n\u001b[0;32m     <a href='vscode-notebook-cell:/c%3A/Users/iwosz/PythonProjects/CryptographyCourse/Lab4/lab4.ipynb#X11sZmlsZQ%3D%3D?line=9'>10</a>\u001b[0m \u001b[39mreturn\u001b[39;00m \u001b[39mTrue\u001b[39;00m\n",
      "\u001b[1;31mKeyboardInterrupt\u001b[0m: "
     ]
    }
   ],
   "source": [
    "generators = [n for n in range(1, p) if is_group_generator(n, p)]"
   ]
  },
  {
   "cell_type": "code",
   "execution_count": null,
   "metadata": {},
   "outputs": [],
   "source": [
    "def generator_sequence(p, generators):\n",
    "    \"\"\"\n",
    "    Generate a sequence of values that are consecutive powers of generators modulo p.\n",
    "    \"\"\"\n",
    "    sequence = []\n",
    "    for g in generators:\n",
    "        for i in range(1, p):\n",
    "            sequence.append(pow(g, i, p))\n",
    "    return sequence\n"
   ]
  },
  {
   "cell_type": "code",
   "execution_count": null,
   "metadata": {},
   "outputs": [
    {
     "ename": "KeyboardInterrupt",
     "evalue": "",
     "output_type": "error",
     "traceback": [
      "\u001b[1;31m---------------------------------------------------------------------------\u001b[0m",
      "\u001b[1;31mKeyboardInterrupt\u001b[0m                         Traceback (most recent call last)",
      "\u001b[1;32mc:\\Users\\iwosz\\PythonProjects\\CryptographyCourse\\lab4.ipynb Cell 7\u001b[0m line \u001b[0;36m<cell line: 1>\u001b[1;34m()\u001b[0m\n\u001b[1;32m----> <a href='vscode-notebook-cell:/c%3A/Users/iwosz/PythonProjects/CryptographyCourse/lab4.ipynb#X10sZmlsZQ%3D%3D?line=0'>1</a>\u001b[0m generator_sequence(p)\n",
      "\u001b[1;32mc:\\Users\\iwosz\\PythonProjects\\CryptographyCourse\\lab4.ipynb Cell 7\u001b[0m line \u001b[0;36mgenerator_sequence\u001b[1;34m(p)\u001b[0m\n\u001b[0;32m      <a href='vscode-notebook-cell:/c%3A/Users/iwosz/PythonProjects/CryptographyCourse/lab4.ipynb#X10sZmlsZQ%3D%3D?line=0'>1</a>\u001b[0m \u001b[39mdef\u001b[39;00m \u001b[39mgenerator_sequence\u001b[39m(p):\n\u001b[0;32m      <a href='vscode-notebook-cell:/c%3A/Users/iwosz/PythonProjects/CryptographyCourse/lab4.ipynb#X10sZmlsZQ%3D%3D?line=1'>2</a>\u001b[0m     \u001b[39m\"\"\"\u001b[39;00m\n\u001b[0;32m      <a href='vscode-notebook-cell:/c%3A/Users/iwosz/PythonProjects/CryptographyCourse/lab4.ipynb#X10sZmlsZQ%3D%3D?line=2'>3</a>\u001b[0m \u001b[39m    Generate a sequence of values that are consecutive powers of generators modulo p.\u001b[39;00m\n\u001b[0;32m      <a href='vscode-notebook-cell:/c%3A/Users/iwosz/PythonProjects/CryptographyCourse/lab4.ipynb#X10sZmlsZQ%3D%3D?line=3'>4</a>\u001b[0m \u001b[39m    \"\"\"\u001b[39;00m\n\u001b[1;32m----> <a href='vscode-notebook-cell:/c%3A/Users/iwosz/PythonProjects/CryptographyCourse/lab4.ipynb#X10sZmlsZQ%3D%3D?line=4'>5</a>\u001b[0m     generators \u001b[39m=\u001b[39m [n \u001b[39mfor\u001b[39;00m n \u001b[39min\u001b[39;00m \u001b[39mrange\u001b[39m(\u001b[39m1\u001b[39m, p) \u001b[39mif\u001b[39;00m is_group_generator(n, p)]\n\u001b[0;32m      <a href='vscode-notebook-cell:/c%3A/Users/iwosz/PythonProjects/CryptographyCourse/lab4.ipynb#X10sZmlsZQ%3D%3D?line=5'>6</a>\u001b[0m     sequence \u001b[39m=\u001b[39m []\n\u001b[0;32m      <a href='vscode-notebook-cell:/c%3A/Users/iwosz/PythonProjects/CryptographyCourse/lab4.ipynb#X10sZmlsZQ%3D%3D?line=6'>7</a>\u001b[0m     \u001b[39mfor\u001b[39;00m g \u001b[39min\u001b[39;00m generators:\n",
      "\u001b[1;32mc:\\Users\\iwosz\\PythonProjects\\CryptographyCourse\\lab4.ipynb Cell 7\u001b[0m line \u001b[0;36m<listcomp>\u001b[1;34m(.0)\u001b[0m\n\u001b[0;32m      <a href='vscode-notebook-cell:/c%3A/Users/iwosz/PythonProjects/CryptographyCourse/lab4.ipynb#X10sZmlsZQ%3D%3D?line=0'>1</a>\u001b[0m \u001b[39mdef\u001b[39;00m \u001b[39mgenerator_sequence\u001b[39m(p):\n\u001b[0;32m      <a href='vscode-notebook-cell:/c%3A/Users/iwosz/PythonProjects/CryptographyCourse/lab4.ipynb#X10sZmlsZQ%3D%3D?line=1'>2</a>\u001b[0m     \u001b[39m\"\"\"\u001b[39;00m\n\u001b[0;32m      <a href='vscode-notebook-cell:/c%3A/Users/iwosz/PythonProjects/CryptographyCourse/lab4.ipynb#X10sZmlsZQ%3D%3D?line=2'>3</a>\u001b[0m \u001b[39m    Generate a sequence of values that are consecutive powers of generators modulo p.\u001b[39;00m\n\u001b[0;32m      <a href='vscode-notebook-cell:/c%3A/Users/iwosz/PythonProjects/CryptographyCourse/lab4.ipynb#X10sZmlsZQ%3D%3D?line=3'>4</a>\u001b[0m \u001b[39m    \"\"\"\u001b[39;00m\n\u001b[1;32m----> <a href='vscode-notebook-cell:/c%3A/Users/iwosz/PythonProjects/CryptographyCourse/lab4.ipynb#X10sZmlsZQ%3D%3D?line=4'>5</a>\u001b[0m     generators \u001b[39m=\u001b[39m [n \u001b[39mfor\u001b[39;00m n \u001b[39min\u001b[39;00m \u001b[39mrange\u001b[39m(\u001b[39m1\u001b[39m, p) \u001b[39mif\u001b[39;00m is_group_generator(n, p)]\n\u001b[0;32m      <a href='vscode-notebook-cell:/c%3A/Users/iwosz/PythonProjects/CryptographyCourse/lab4.ipynb#X10sZmlsZQ%3D%3D?line=5'>6</a>\u001b[0m     sequence \u001b[39m=\u001b[39m []\n\u001b[0;32m      <a href='vscode-notebook-cell:/c%3A/Users/iwosz/PythonProjects/CryptographyCourse/lab4.ipynb#X10sZmlsZQ%3D%3D?line=6'>7</a>\u001b[0m     \u001b[39mfor\u001b[39;00m g \u001b[39min\u001b[39;00m generators:\n",
      "\u001b[1;32mc:\\Users\\iwosz\\PythonProjects\\CryptographyCourse\\lab4.ipynb Cell 7\u001b[0m line \u001b[0;36mis_group_generator\u001b[1;34m(n, p)\u001b[0m\n\u001b[0;32m      <a href='vscode-notebook-cell:/c%3A/Users/iwosz/PythonProjects/CryptographyCourse/lab4.ipynb#X10sZmlsZQ%3D%3D?line=5'>6</a>\u001b[0m     \u001b[39mreturn\u001b[39;00m \u001b[39mFalse\u001b[39;00m\n\u001b[0;32m      <a href='vscode-notebook-cell:/c%3A/Users/iwosz/PythonProjects/CryptographyCourse/lab4.ipynb#X10sZmlsZQ%3D%3D?line=6'>7</a>\u001b[0m \u001b[39mfor\u001b[39;00m i \u001b[39min\u001b[39;00m \u001b[39mrange\u001b[39m(\u001b[39m1\u001b[39m, p\u001b[39m-\u001b[39m\u001b[39m1\u001b[39m):\n\u001b[1;32m----> <a href='vscode-notebook-cell:/c%3A/Users/iwosz/PythonProjects/CryptographyCourse/lab4.ipynb#X10sZmlsZQ%3D%3D?line=7'>8</a>\u001b[0m     \u001b[39mif\u001b[39;00m \u001b[39mpow\u001b[39;49m(n, i, p) \u001b[39m==\u001b[39m \u001b[39m1\u001b[39m:\n\u001b[0;32m      <a href='vscode-notebook-cell:/c%3A/Users/iwosz/PythonProjects/CryptographyCourse/lab4.ipynb#X10sZmlsZQ%3D%3D?line=8'>9</a>\u001b[0m         \u001b[39mreturn\u001b[39;00m \u001b[39mFalse\u001b[39;00m\n\u001b[0;32m     <a href='vscode-notebook-cell:/c%3A/Users/iwosz/PythonProjects/CryptographyCourse/lab4.ipynb#X10sZmlsZQ%3D%3D?line=9'>10</a>\u001b[0m \u001b[39mreturn\u001b[39;00m \u001b[39mTrue\u001b[39;00m\n",
      "\u001b[1;31mKeyboardInterrupt\u001b[0m: "
     ]
    }
   ],
   "source": [
    "generator_sequence(p, generators)"
   ]
  }
 ],
 "metadata": {
  "kernelspec": {
   "display_name": "base",
   "language": "python",
   "name": "python3"
  },
  "language_info": {
   "codemirror_mode": {
    "name": "ipython",
    "version": 3
   },
   "file_extension": ".py",
   "mimetype": "text/x-python",
   "name": "python",
   "nbconvert_exporter": "python",
   "pygments_lexer": "ipython3",
   "version": "3.9.12"
  }
 },
 "nbformat": 4,
 "nbformat_minor": 2
}
