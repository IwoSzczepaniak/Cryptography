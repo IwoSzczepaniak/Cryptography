{
 "cells": [
  {
   "cell_type": "markdown",
   "id": "676bcec6",
   "metadata": {},
   "source": [
    "# Szyfrowanie homomorficzne"
   ]
  },
  {
   "cell_type": "markdown",
   "id": "2230017e",
   "metadata": {},
   "source": [
    "### Zadanie 1\n",
    "Dany jest szyfrogram otrzymany w wyniku działania algorytmu RSA (Textbook RSA encryption) na tekście jawnym o wartości 4. Na podstawie tego szyfroghramu wygeneruj fałszywy szyfrogram, który po odszyfrowaniu będzie równy 44. "
   ]
  },
  {
   "cell_type": "code",
   "execution_count": 79,
   "id": "42e1ddf9",
   "metadata": {},
   "outputs": [
    {
     "name": "stdout",
     "output_type": "stream",
     "text": [
      "1. Generujemy liczby p i q\n",
      "3. Obliczamy wykładnik prywatny: odwrotność e modulo (p-1)(q-1)\n",
      "Klucz publiczny: (1995740651, 65537)\n",
      "Klucz prywatny: (1995740651, 601158737)\n",
      "Generujemy klucze publiczny i prywatny: (1995740651, 65537) (1995740651, 601158737)\n",
      "Zaszyfrowana liczba: 350346157\n",
      "Odszyfrowana liczba: 4\n"
     ]
    }
   ],
   "source": [
    "import random, sys, os\n",
    "\n",
    "## Funkcje pomocnicze \n",
    "def gcd(a, b):\n",
    "    # GCD - Greatest Common Divisor, Największy wspólny dzielnik \n",
    "    while a != 0:\n",
    "        a, b = b % a, a   \n",
    "    return b\n",
    "\n",
    "def findModInverse(a, m):\n",
    "    # Zwraca liczbę x odwrotną do a ciele skończonym modulo m \n",
    "    # czyli (a*x) % m =1 \n",
    "\n",
    "    if gcd(a, m) != 1:\n",
    "        return None #a i m muszą być względnie pierwsze aby istniał element odwrotny \n",
    "\n",
    "    # Rozszerzony algorytm Euklidesa \n",
    "    u1, u2, u3 = 1, 0, a\n",
    "    v1, v2, v3 = 0, 1, m\n",
    "    while v3 != 0:   \n",
    "        q = u3 // v3 # // operator dzielenie całkowitoliczbowego \n",
    "        v1, v2, v3, u1, u2, u3 = (u1 - q * v1), (u2 - q * v2), (u3 - q * v3), v1, v2, v3\n",
    "    return u1 % m\n",
    "\n",
    "def generateKey(keySize):\n",
    "    print('1. Generujemy liczby p i q')\n",
    "    p=49109 \n",
    "    q=40639\n",
    "    e = 65537 \n",
    "    print('3. Obliczamy wykładnik prywatny: odwrotność e modulo (p-1)(q-1)')\n",
    "    d=findModInverse(e, (p-1)*(q-1))\n",
    "    n= p*q\n",
    "    publicKey = (n, e)\n",
    "    privateKey = (n, d)\n",
    "    print('Klucz publiczny:', publicKey)\n",
    "    print('Klucz prywatny:', privateKey)\n",
    "    return (publicKey, privateKey)\n",
    "\n",
    "public, private = generateKey(16)\n",
    "  \n",
    "print('Generujemy klucze publiczny i prywatny:', public, private)\n",
    "\n",
    "def encrypt(data_number, modulus, exp):\n",
    "    data_encrypted = pow(data_number, exp, modulus)\n",
    "    return data_encrypted\n",
    "\n",
    "def decrypt(data_number, modulus, exp):\n",
    "    data_decrypted = pow(data_number, exp, modulus)\n",
    "    return data_decrypted\n",
    "\n",
    "encrypted = encrypt(4, public[0], public[1])\n",
    "print('Zaszyfrowana liczba:', encrypted)\n",
    "decrypted = decrypt(encrypted, private[0], private[1])\n",
    "print('Odszyfrowana liczba:', decrypted)"
   ]
  },
  {
   "cell_type": "code",
   "execution_count": 80,
   "id": "f1379644",
   "metadata": {},
   "outputs": [
    {
     "name": "stdout",
     "output_type": "stream",
     "text": [
      "Zaszyfrowana liczba: 350346157\n",
      "Odszyfrowana liczba: 44\n"
     ]
    }
   ],
   "source": [
    "plaintext = 4\n",
    "fake_text = 44\n",
    "\n",
    "encrypted2 = encrypt(fake_text//plaintext, public[0], public[1])\n",
    "print('Zaszyfrowana liczba:', encrypted)\n",
    "\n",
    "decrypted2 = decrypt(encrypted2*encrypted, private[0], private[1])\n",
    "print('Odszyfrowana liczba:', decrypted2)"
   ]
  },
  {
   "cell_type": "markdown",
   "id": "333ab3d7",
   "metadata": {},
   "source": [
    "## Kryptosystem Pailliera\n",
    "\n"
   ]
  },
  {
   "cell_type": "code",
   "execution_count": 81,
   "id": "3a07bd7f",
   "metadata": {},
   "outputs": [],
   "source": [
    "# !pip install phe"
   ]
  },
  {
   "cell_type": "markdown",
   "id": "180e7830",
   "metadata": {},
   "source": [
    "### Kryptosystem Pailliera\n",
    "\n",
    "Q 1999 roku Pascal Paillier zaproponował kryptosystem zbliżony konstrukcją do RSA (bezpieczeństwo oparte o faktoryzację liczb całkowitych), które posiada własność szyfrowania homomorficznego dla operacji:\n",
    "- dodawania\n",
    "- mnożenia szyfrogramu przez jawny numer\n",
    "\n",
    "\n",
    "#### Generowanie kluczy\n",
    "\n",
    "1. Wybierz losowo dwie duże liczby pierwsze $p$ i $q$ tak aby $gcd(pq, (p-1)(q-1)) = 1$. \n",
    "2. Oblicz $n = pq$\n",
    "3. Oblicz $\\lambda = lcm(p-1,q-1)$ ($lcm$ --- Least Common Multiple, Najmniejsza Wspólna Wielokrotność)\n",
    "4. Zdefiniuj funkcje $L(x) = \\frac{x-1}{n}$\n",
    "5. Wybierz losowo $g \\in Z^*_{n^2}$ (liczba całkowita w zakresie 1 do $n^2$)\n",
    "6. Oblicz odwrotność multiplikatywną $\\mu = L(g^\\lambda \\bmod n^2))^{-1} bmod n$. Jeśli $\\mu$ nie istnieje zacznij od nowa. \n",
    "\n",
    "Klucz publiczny ma postać: $pk = (n,g)$\n",
    "Klucz prywatny ma postać: $sk = \\lambda$ \n",
    "\n",
    "#### Szyfrowanie \n",
    "\n",
    "1. Tekstem jawnym jest liczba $m$ zakresu $0 \\le m < n$.\n",
    "\n",
    "2. Wybierz losową liczbę z zakresu $0 \\le r < n$.\n",
    "\n",
    "3. Oblicz szyfrogram $c= g^m \\cdot r^n \\bmod n^2$\n",
    "\n",
    "#### Deszyfrowanie\n",
    "\n",
    "1. Szyfrogram musi być liczbą z zakresu $0 < c < n^2$ \n",
    "2. Oblicz tekst jawny $m= L(c^\\lambda \\bmod n^2)\\cdot \\mu \\bmod n$\n",
    "\n",
    "### Homomorficzne własności schematu Pailliera\n",
    "\n",
    "1. Dodawanie dwóch liczb:\n",
    "$$D_{priv}(E_{pub}(m_1) \\cdot E_{pub}(m_2) \\bmod n^2)= m_1 + m_2 \\bmod n$$\n",
    "\n",
    "2. Mnożenie szyfrogramu przez liczbę:\n",
    "$$D_{priv}(E_{pub}(m_1)^{m_2} \\bmod n^2)= m_1 \\cdot m_2 \\bmod n$$"
   ]
  },
  {
   "cell_type": "code",
   "execution_count": 82,
   "id": "b3c9e83d",
   "metadata": {},
   "outputs": [
    {
     "name": "stdout",
     "output_type": "stream",
     "text": [
      "<PaillierPublicKey a9fcece405> <PaillierPrivateKey for <PaillierPublicKey a9fcece405>>\n",
      "<phe.paillier.EncryptedNumber object at 0x0000026E4902BBE0> <phe.paillier.EncryptedNumber object at 0x0000026E4902B5B0>\n",
      "5 10\n"
     ]
    }
   ],
   "source": [
    "import phe  # https://pypi.org/project/phe/\n",
    "\n",
    "from phe import paillier\n",
    "import json\n",
    "pub_key, priv_key = paillier.generate_paillier_keypair()\n",
    "print(pub_key, priv_key)\n",
    "\n",
    "enc1 = pub_key.encrypt(5)\n",
    "enc2 = pub_key.encrypt(10)\n",
    "\n",
    "print(enc1, enc2)\n",
    "\n",
    "dec1 = priv_key.decrypt(enc1)\n",
    "dec2 = priv_key.decrypt(enc2)\n",
    "\n",
    "print(dec1, dec2)"
   ]
  },
  {
   "cell_type": "markdown",
   "id": "49ec252c",
   "metadata": {},
   "source": [
    "### Zadanie 2\n",
    "Sprawdź empirycznie działanie homomorficznego szyfrowania Pailliera. Dlaczego to działa? Wykaż poprawność dodawania i mnożenia przez liczbę.   "
   ]
  },
  {
   "cell_type": "code",
   "execution_count": 83,
   "id": "f16848a2",
   "metadata": {},
   "outputs": [
    {
     "name": "stdout",
     "output_type": "stream",
     "text": [
      "20\n",
      "50\n"
     ]
    }
   ],
   "source": [
    "decrypt_sum = priv_key.decrypt(10 + enc2)\n",
    "print(decrypt_sum)\n",
    "\n",
    "decrypt_prod = priv_key.decrypt(5 * enc2)\n",
    "print(decrypt_prod)"
   ]
  },
  {
   "cell_type": "markdown",
   "id": "d2ab4568",
   "metadata": {},
   "source": [
    "Homomorficzne dodawanie dwóch wektorów"
   ]
  },
  {
   "cell_type": "code",
   "execution_count": 84,
   "id": "d6ec2c77",
   "metadata": {},
   "outputs": [],
   "source": [
    "from Pyfhel import Pyfhel, PyPtxt, PyCtxt\n",
    "\n",
    "import numpy as np"
   ]
  },
  {
   "cell_type": "code",
   "execution_count": 85,
   "id": "13cfbd31",
   "metadata": {},
   "outputs": [
    {
     "name": "stdout",
     "output_type": "stream",
     "text": [
      "3. Integer Encryption, \n",
      "    int  [127 127] -> ctxt1  <class 'Pyfhel.PyCtxt.PyCtxt'>\n",
      "    int  [-2 12] -> ctxt2  <class 'Pyfhel.PyCtxt.PyCtxt'>\n"
     ]
    }
   ],
   "source": [
    "HE = Pyfhel()           # Creating empty Pyfhel object\n",
    "HE.contextGen(scheme='bfv', n=2**14, t_bits=20)  # Generate context for 'bfv'/'ckks' scheme\n",
    "                        # The n defines the number of plaintext slots.\n",
    "                        #  There are many configurable parameters on this step\n",
    "                        #  More info in Demo_2, Demo_3, and Pyfhel.contextGen()\n",
    "HE.keyGen()             # Key Generation: generates a pair of public/secret keys\n",
    "integer1 = np.array([127 for _ in range(2)], dtype=np.int64)\n",
    "integer2 = np.array([-2, 12], dtype=np.int64)\n",
    "ctxt1 = HE.encryptInt(integer1) # Encryption makes use of the public key\n",
    "ctxt2 = HE.encryptInt(integer2) # For integers, encryptInt function is used.\n",
    "print(\"3. Integer Encryption, \")\n",
    "print(\"    int \",integer1,'-> ctxt1 ', type(ctxt1))\n",
    "print(\"    int \",integer2,'-> ctxt2 ', type(ctxt2))\n"
   ]
  },
  {
   "cell_type": "code",
   "execution_count": 86,
   "id": "89f5e9e2",
   "metadata": {},
   "outputs": [],
   "source": [
    "ctxtSum = ctxt1 + ctxt2      \n",
    "ctxtSub = ctxt1 * ctxt2\n"
   ]
  },
  {
   "cell_type": "code",
   "execution_count": 87,
   "id": "ee337179",
   "metadata": {},
   "outputs": [
    {
     "name": "stdout",
     "output_type": "stream",
     "text": [
      "#. Decrypting result:\n",
      "     addition:       decrypt(ctxt1 + ctxt2) =   [125, 139]\n",
      "     substraction:   decrypt(ctxt1 - ctxt2) =   [-254, 1524]\n"
     ]
    }
   ],
   "source": [
    "resSum = HE.decryptInt(ctxtSum) # Decryption must use the corresponding function\n",
    "                                #  decryptInt.\n",
    "resSub = HE.decryptInt(ctxtSub)\n",
    "print(\"#. Decrypting result:\")\n",
    "print(\"     addition:       decrypt(ctxt1 + ctxt2) =  \", resSum.tolist()[:ctxt2.size()])\n",
    "print(\"     substraction:   decrypt(ctxt1 - ctxt2) =  \", resSub.tolist()[:ctxt2.size()])\n"
   ]
  }
 ],
 "metadata": {
  "kernelspec": {
   "display_name": "Python 3 (ipykernel)",
   "language": "python",
   "name": "python3"
  },
  "language_info": {
   "codemirror_mode": {
    "name": "ipython",
    "version": 3
   },
   "file_extension": ".py",
   "mimetype": "text/x-python",
   "name": "python",
   "nbconvert_exporter": "python",
   "pygments_lexer": "ipython3",
   "version": "3.9.12"
  }
 },
 "nbformat": 4,
 "nbformat_minor": 5
}
