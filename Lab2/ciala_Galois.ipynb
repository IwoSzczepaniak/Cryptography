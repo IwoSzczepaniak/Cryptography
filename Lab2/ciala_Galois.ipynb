{
 "cells": [
  {
   "cell_type": "markdown",
   "id": "d91341b6",
   "metadata": {},
   "source": [
    "# Arytmetyka w ciałach Galois\n",
    "\n",
    "## Co to jest ciało Galois?\n",
    "\n",
    "**Ciałem Galois** nazywamy ciało $(G,+,\\cdot)$ o skończonej liczbie elementów. Najprostszym przykładem takiego ciała są $\\mathbb{Z}_p$, gdzie $p$ jest liczbą pierwszą. *Rzędem* ciała skończonego nazywamy liczbę jego elementów. Ciała skończone tego samego rzędu są izomorficzne.\n",
    "\n",
    "Kolejnym ważnym przykładem ciała Galois jest pierścień ilorazowy $\\mathbb{Z}_p[X]/W(X)$, gdzie $p$ jest liczbą pierwszą a $W$ jest nierozkładalnym wielomianem monicznym stopnia $n$.\n",
    "\n",
    "## Pierścień $\\mathbb{Z}_n$\n",
    "\n",
    "W ciele $\\mathbb{Z}$ wprowadzamy relację równoważności $\\mod n$ (gdzie $n$ jest ustaloną dodatnią liczbą naturalną):\n",
    "$$a\\equiv_n b\\Leftrightarrow [a]_n=[b]_n$$\n",
    "gdzie $[]_n$ oznacza resztę z dzielenia przez $n$.\n",
    "\n",
    "Arytmetyka $\\mod n$:$$a+b=[a+b]_n$$ $$ab=[ab]_n$$\n",
    "\n",
    "**Pierwiastkiem pierwotnym** $\\mod n$ nazywamy liczbę, której potęgi $\\mod n$ dają wszystkie reszty z dzielenia przez $n$, które są względnie pierwsze z $n$. Pierwiastek pierwotny istnieje tylko dla następujących $n$:\n",
    "- $n=p^k$, gdzie $p$ jest liczbą pierwszą różną od 2\n",
    "- $n=2p^k$, gdzie $p$ - j.w.\n",
    "- $n=2$ lub $n=4$"
   ]
  },
  {
   "cell_type": "markdown",
   "id": "f796ef8e",
   "metadata": {},
   "source": [
    "### Sage math:\n",
    "Konstruujemy pierścień `R=Integers(n)` lub `R=IntegerModRing(n)`, gdzie za `n` podajemy ustaloną liczbę naturalną. Jeżeli chcemy poznać postać liczby `x` w tym pierścieniu, to piszemy `R(x)`. Inną opcją jest funkcja `mod(x,n)`"
   ]
  },
  {
   "cell_type": "code",
   "execution_count": 1,
   "id": "b4db6339",
   "metadata": {},
   "outputs": [],
   "source": [
    "# R=Integers(3)\n",
    "# x=R(4)\n",
    "# print(x)\n",
    "# print(type(x))"
   ]
  },
  {
   "cell_type": "code",
   "execution_count": 2,
   "id": "86859c0a",
   "metadata": {},
   "outputs": [],
   "source": [
    "# R(2+7) # 0"
   ]
  },
  {
   "cell_type": "code",
   "execution_count": 3,
   "id": "84417cfd",
   "metadata": {},
   "outputs": [],
   "source": [
    "# R(2*4) # 2"
   ]
  },
  {
   "cell_type": "code",
   "execution_count": 4,
   "id": "259e5571",
   "metadata": {},
   "outputs": [],
   "source": [
    "# RR=IntegerModRing(5)\n",
    "# x=RR(10)\n",
    "# print(x)\n",
    "# print(type(x))"
   ]
  },
  {
   "cell_type": "code",
   "execution_count": 5,
   "id": "7cadde47",
   "metadata": {},
   "outputs": [],
   "source": [
    "# x=mod(10,4)\n",
    "# print(x) # 2\n",
    "# print(type(x))"
   ]
  },
  {
   "cell_type": "markdown",
   "id": "5b8ac8e6",
   "metadata": {},
   "source": [
    "Pierwiastki pierwotne w Sage znajdujemy funkcją `primitive_root(n)`."
   ]
  },
  {
   "cell_type": "code",
   "execution_count": 6,
   "id": "5c1b2de3",
   "metadata": {},
   "outputs": [],
   "source": [
    "# x=primitive_root(7)\n",
    "# print(x) # 3\n",
    "# print(type(x))"
   ]
  },
  {
   "cell_type": "code",
   "execution_count": 7,
   "id": "ed1f74d5",
   "metadata": {},
   "outputs": [],
   "source": [
    "# primitive_root(5) # 2"
   ]
  },
  {
   "cell_type": "markdown",
   "id": "76290854",
   "metadata": {},
   "source": [
    "### python:"
   ]
  },
  {
   "cell_type": "markdown",
   "id": "d1feb566",
   "metadata": {},
   "source": [
    "W pythonie nie poszalejemy - operator `%` zwraca resztę z dzielenia. I to tyle. Funkcje do arytmetyki mod $n$ można znaleźć w module SymPy."
   ]
  },
  {
   "cell_type": "code",
   "execution_count": 8,
   "id": "627d5866",
   "metadata": {},
   "outputs": [
    {
     "name": "stdout",
     "output_type": "stream",
     "text": [
      "1\n",
      "<class 'int'>\n"
     ]
    }
   ],
   "source": [
    "x=5%2\n",
    "print(x)\n",
    "print(type(x))"
   ]
  },
  {
   "cell_type": "markdown",
   "id": "67bf52cb",
   "metadata": {},
   "source": [
    "## Zadanie 1.\n",
    "Zaimplementować w pythonie funkcję `prim_root(n)` znajdującą pierwiastki pierwotne mod $n$. Jeżeli taki pierwiastek nie istnieje funkcja ma zwrócić 0. Jeżeli takich pierwiastków jest więcej funkcja ma zwrócić najmniejszy z nich."
   ]
  },
  {
   "cell_type": "markdown",
   "id": "c8dd1358",
   "metadata": {},
   "source": [
    "Znajdywanie liczb pierwszych"
   ]
  },
  {
   "cell_type": "code",
   "execution_count": 9,
   "id": "edac8eae",
   "metadata": {},
   "outputs": [],
   "source": [
    "from math import sqrt\n",
    "def is_prime(i):\n",
    "    if i == 2: return True\n",
    "    if i < 2 or i % 2 == 0: return False\n",
    "    for j in range(3, int(sqrt(i))+1, 2):\n",
    "        if i % j == 0:\n",
    "            return False\n",
    "    return True"
   ]
  },
  {
   "cell_type": "markdown",
   "id": "d2b2be08",
   "metadata": {},
   "source": [
    "$p^k$ <- 2 i 4 uwzględnione tutaj"
   ]
  },
  {
   "cell_type": "code",
   "execution_count": null,
   "id": "6b6ec4d6",
   "metadata": {},
   "outputs": [],
   "source": [
    "def is_primitive_root(k, n):\n",
    "    def gcd_modulo(a, b):\n",
    "        while b:\n",
    "            a, b = b, a % b\n",
    "        return a\n",
    "    if gcd_modulo(k, n) != 1:\n",
    "        return False\n",
    "\n",
    "    powers = set()\n",
    "    for i in range(1, n):\n",
    "        powers.add(pow(k, i, n))\n",
    "\n",
    "    # print(powers)\n",
    "    return len(powers) == n - 1\n"
   ]
  },
  {
   "cell_type": "markdown",
   "id": "f4457b0a",
   "metadata": {},
   "source": [
    "$2p^k$"
   ]
  },
  {
   "cell_type": "code",
   "execution_count": 75,
   "id": "687af858",
   "metadata": {},
   "outputs": [],
   "source": [
    "def is_primitive_root_k(g, p, k):\n",
    "    def gcd(a, b):\n",
    "        while b:\n",
    "            a, b = b, a % b\n",
    "        return a\n",
    "\n",
    "    if gcd(g, p) != 1:\n",
    "        return False\n",
    "\n",
    "    powers = set()\n",
    "    for i in range(1, p**k):\n",
    "        powers.add(pow(g, i, p**k))\n",
    "\n",
    "    return len(powers) == p**(k-1) * (p-1)"
   ]
  },
  {
   "cell_type": "markdown",
   "id": "9cb1fa6d",
   "metadata": {},
   "source": [
    "Obliczanie pierwiastka pierwotnego modulo"
   ]
  },
  {
   "cell_type": "code",
   "execution_count": 89,
   "id": "474e87d7",
   "metadata": {},
   "outputs": [
    {
     "data": {
      "text/plain": [
       "[2, 6, 7, 11]"
      ]
     },
     "execution_count": 89,
     "metadata": {},
     "output_type": "execute_result"
    }
   ],
   "source": [
    "def prim_root(n):\n",
    "\n",
    "    result = []\n",
    "\n",
    "    if n % 2 == 0:\n",
    "        j = 0\n",
    "        while n % 2 == 0:\n",
    "            n //= 2\n",
    "            j += 1\n",
    "        for k in range(2, n):\n",
    "            if is_primitive_root_k(k, n, j):\n",
    "                result.append(k)\n",
    "\n",
    "    else:\n",
    "        for k in range(2, n):\n",
    "            if is_primitive_root(k, n): \n",
    "                result.append(k)\n",
    "\n",
    "    if len(result) < 1: return [0] # for tests\n",
    "    return result\n",
    "\n",
    "# prim_root(26)"
   ]
  },
  {
   "cell_type": "code",
   "execution_count": 78,
   "id": "30843298",
   "metadata": {},
   "outputs": [],
   "source": [
    "#TESTY\n",
    "try:\n",
    "    assert 3 in prim_root(7)\n",
    "    assert 0 in prim_root(15)\n",
    "    assert 7 in prim_root(26)\n",
    "except:\n",
    "    print('Próbuj dalej')\n",
    "    raise"
   ]
  },
  {
   "cell_type": "markdown",
   "id": "4ef37075",
   "metadata": {},
   "source": [
    "## Zadanie 2.\n",
    "\n",
    "Zaimplementować w Pythonie klasę `Z7()`, której obiekty to pierścienie reszt z dzielenia przez 7. Przeładować operatory `+`, `-`, `*`, aby na obiektach klasy wykonywały działania mod 7 oraz metodę `__repr__`."
   ]
  },
  {
   "cell_type": "code",
   "execution_count": 79,
   "id": "a7e92b65",
   "metadata": {},
   "outputs": [],
   "source": [
    "class Z7:\n",
    "    def __init__(self, x):\n",
    "        self.x=x%7\n",
    "    def __add__(self, other):\n",
    "        if type(other) == type(self):\n",
    "            return Z7((self.x+other.x)%7)\n",
    "        else:\n",
    "            return Z7((self.x+other)%7)\n",
    "    def __mul__(self, other):\n",
    "        if type(other) == type(self):\n",
    "            return Z7((self.x*other.x)%7)\n",
    "        else:\n",
    "            return Z7((self.x*other)%7)\n",
    "    def __sub__(self, other):\n",
    "        if type(other) == type(self):\n",
    "            return Z7((self.x-other.x)%7)\n",
    "        else:\n",
    "            return Z7((self.x-other)%7)\n",
    "    def __repr__(self):\n",
    "        return str(self.x)    "
   ]
  },
  {
   "cell_type": "code",
   "execution_count": 83,
   "id": "f9dece7e",
   "metadata": {},
   "outputs": [
    {
     "name": "stdout",
     "output_type": "stream",
     "text": [
      "2 3 0\n",
      "2 6\n"
     ]
    }
   ],
   "source": [
    "#TESTY\n",
    "\n",
    "x=Z7(2)\n",
    "y=Z7(10)\n",
    "z=Z7(14)\n",
    "\n",
    "print(x,y,z)\n",
    "#2 3 0\n",
    "print(x+z, x*y)\n",
    "#2 6"
   ]
  },
  {
   "cell_type": "markdown",
   "id": "812b4993",
   "metadata": {},
   "source": [
    "### Wymiana klucza typu Diffie-Hellman z wykorzystaniem pierwiastka pierwotnego\n",
    "\n",
    "Alice i Bob uzgadniają klucz publiczny będący liczbą pierwszą $p$ oraz $q$ - pierwiastkiem pierwotnym mod $p$.\n",
    "- sekret Alice: liczba całkowita $n\\in (0,p)$\n",
    "- sekret Boba: liczba całkowita $m\\in (0,p)$\n",
    "- Alice generuje $x=q^n$ i wysyła do Boba\n",
    "- Bob generuje $y=q^m$ i wysyła Alice\n",
    "- Alice oblicza klucz $k=y^n$\n",
    "- Bob oblicza klucz $k=x^m$\n",
    "\n",
    "Użycie pierwiastka pierwotnego gwarantuje, że wielkość klucza $k$ nie przekroczy $p-1$."
   ]
  },
  {
   "cell_type": "markdown",
   "id": "076f56f9",
   "metadata": {},
   "source": [
    "## Zadanie 3.\n",
    "\n",
    "Zaimplementuj w Sage lub pythonie powyższy prosty algorytm wymiany klucza. Przyda się funkcja `random_prime()` (Sage) oraz `randint()`."
   ]
  },
  {
   "cell_type": "code",
   "execution_count": null,
   "id": "7ec7af0b",
   "metadata": {},
   "outputs": [],
   "source": [
    "# implement diffie hellman\n",
    "\n",
    "\n",
    "\n",
    "\n",
    "\n"
   ]
  },
  {
   "cell_type": "markdown",
   "id": "0750ef60",
   "metadata": {},
   "source": [
    "## Pierścienie ilorazowe wielomianów\n",
    "\n",
    "Aby utworzyć pierścień ilorazowy $\\mathbb{Z}_n[X]/W(X)$ w Sage musimy najpierw utworzyć $\\mathbb{Z}_n[X]$, czyli pierścień wielomianów o współczynnikach z $\\mathbb{Z}_n$:\n",
    "\n",
    "`R=PolynomialRing(Integers(n),'X')`\n",
    "\n",
    "Jeżeli w dalszej części kodu mamy zamiar korzystać z wielomianów z tego pierścienia, to dobrze jest rozdzielić nazewnictwo zmiennych niezależnych\n",
    "\n",
    "`X=R.gen()`\n",
    "\n",
    "Teraz każdy wielomian zmiennej `X` będzie przez Sage traktowany jako element pierścienia `R`."
   ]
  },
  {
   "cell_type": "code",
   "execution_count": null,
   "id": "2a8a7cb1",
   "metadata": {},
   "outputs": [],
   "source": [
    "# R=PolynomialRing(Integers(5),'X')\n",
    "# X=R.gen()\n",
    "\n",
    "# X^6-13*X^4+12*X^2-10*X+6"
   ]
  },
  {
   "cell_type": "markdown",
   "id": "f606fdb6",
   "metadata": {},
   "source": [
    "Pierścień ilorazowy tworzymy metodą `R.quotient(W,'x')`, gdzie `W` jest dowolnym wielomianem. Podobnie jak poprzednio dobrze jest od razu zdefiniować `x` jako zmienną niezależną wielomianów z nowego pierścienia."
   ]
  },
  {
   "cell_type": "code",
   "execution_count": null,
   "id": "c276fa4e",
   "metadata": {},
   "outputs": [],
   "source": [
    "# Rq=R.quotient(X^4+1,'x')\n",
    "# x=Rq.gen()\n",
    "\n",
    "# x^6-13*x^4+12*x^2-10*x+6"
   ]
  },
  {
   "cell_type": "code",
   "execution_count": null,
   "id": "04a7edfb",
   "metadata": {},
   "outputs": [],
   "source": [
    "# w1=7*x^6+14\n",
    "# w2=24*x^4-5*x^2-7*x+13\n",
    "\n",
    "# expand(w1*w2)"
   ]
  },
  {
   "cell_type": "markdown",
   "id": "af84fcfa",
   "metadata": {},
   "source": [
    "## Zadanie 4.\n",
    "\n",
    "Zaimplementować w pythonie arytmetykę pierścienia ilorazowego wielomianów utożsamiając wielomian z wektorem współczynników przy poszczególnych potęgach."
   ]
  },
  {
   "cell_type": "code",
   "execution_count": null,
   "id": "61363922",
   "metadata": {},
   "outputs": [],
   "source": []
  }
 ],
 "metadata": {
  "kernelspec": {
   "display_name": "base",
   "language": "python",
   "name": "python3"
  },
  "language_info": {
   "codemirror_mode": {
    "name": "ipython",
    "version": 3
   },
   "file_extension": ".py",
   "mimetype": "text/x-python",
   "name": "python",
   "nbconvert_exporter": "python",
   "pygments_lexer": "ipython3",
   "version": "3.9.12"
  }
 },
 "nbformat": 4,
 "nbformat_minor": 5
}
